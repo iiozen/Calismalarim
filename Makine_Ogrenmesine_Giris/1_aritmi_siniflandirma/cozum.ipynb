{
  "nbformat": 4,
  "nbformat_minor": 0,
  "metadata": {
    "colab": {
      "name": "Odev2.ipynb",
      "provenance": [],
      "collapsed_sections": []
    },
    "kernelspec": {
      "name": "python3",
      "display_name": "Python 3"
    }
  },
  "cells": [
    {
      "cell_type": "code",
      "metadata": {
        "id": "9cBlCS2NNjOH",
        "colab_type": "code",
        "outputId": "38e30119-6dd8-4ebc-914b-3dbd74068959",
        "colab": {
          "base_uri": "https://localhost:8080/",
          "height": 272
        }
      },
      "source": [
        "from google.colab import drive \n",
        "drive.mount('/content/gdrive')\n",
        "import pandas as pd\n",
        "df=pd.read_csv('gdrive/My Drive/arrhythmia.data.txt')\n",
        "data=df.iloc[:,[0,1,2,3,4,5,6,7,8,9]]\n",
        "data.columns = ['Age','Sex','Height','Weight','QRS duration','P-R interval','Q-T interval','T interval','P interval','QRS']\n",
        "print(data)\n"
      ],
      "execution_count": 157,
      "outputs": [
        {
          "output_type": "stream",
          "text": [
            "Drive already mounted at /content/gdrive; to attempt to forcibly remount, call drive.mount(\"/content/gdrive\", force_remount=True).\n",
            "     Age  Sex  Height  Weight  ...  Q-T interval  T interval  P interval  QRS\n",
            "0     56    1     165      64  ...           401         149          39   25\n",
            "1     54    0     172      95  ...           386         185         102   96\n",
            "2     55    0     175      94  ...           380         179         143   28\n",
            "3     75    0     190      80  ...           360         177         103  -16\n",
            "4     13    0     169      51  ...           321         174          91  107\n",
            "..   ...  ...     ...     ...  ...           ...         ...         ...  ...\n",
            "446   53    1     160      70  ...           382         154         117  -37\n",
            "447   37    0     190      85  ...           361         201          73   86\n",
            "448   36    0     166      68  ...           365         194         116  -85\n",
            "449   32    1     155      55  ...           386         218          63   54\n",
            "450   78    1     160      70  ...           364         138          78   28\n",
            "\n",
            "[451 rows x 10 columns]\n"
          ],
          "name": "stdout"
        }
      ]
    },
    {
      "cell_type": "code",
      "metadata": {
        "id": "VWYmrXq5TK1I",
        "colab_type": "code",
        "outputId": "9a5eb009-0ca8-4ebe-dfff-0de92d746ce0",
        "colab": {
          "base_uri": "https://localhost:8080/",
          "height": 221
        }
      },
      "source": [
        "import numpy as np\n",
        "from sklearn import datasets, neighbors, linear_model\n",
        "aritmi=df.iloc[:,279]\n",
        "a=aritmi\n",
        "print(a)"
      ],
      "execution_count": 158,
      "outputs": [
        {
          "output_type": "stream",
          "text": [
            "0       6\n",
            "1      10\n",
            "2       1\n",
            "3       7\n",
            "4      14\n",
            "       ..\n",
            "446     1\n",
            "447    10\n",
            "448     2\n",
            "449     1\n",
            "450     1\n",
            "Name: 8, Length: 451, dtype: int64\n"
          ],
          "name": "stdout"
        }
      ]
    },
    {
      "cell_type": "code",
      "metadata": {
        "id": "PU9Ar-zZ0tA-",
        "colab_type": "code",
        "outputId": "e5f7f102-700f-4335-f602-6e7df1d93e58",
        "colab": {
          "base_uri": "https://localhost:8080/",
          "height": 306
        }
      },
      "source": [
        "b=a\n",
        "b1=(b==2)|(b==10)\n",
        "b=b[b1]\n",
        "data1=data[b1]\n",
        "b=np.where(b==2,0,1)\n",
        "print(b)\n",
        "print(data1)"
      ],
      "execution_count": 159,
      "outputs": [
        {
          "output_type": "stream",
          "text": [
            "[1 1 1 1 1 0 0 1 1 0 1 0 0 0 1 1 0 1 1 1 1 1 1 1 0 1 0 0 0 0 0 0 0 1 1 0 0\n",
            " 0 1 0 0 0 1 0 0 1 0 0 1 1 1 1 0 0 0 1 1 0 0 1 1 1 0 0 1 1 0 1 1 1 1 1 0 1\n",
            " 0 0 0 1 0 0 0 0 0 1 1 1 0 1 1 1 1 1 1 0]\n",
            "     Age  Sex  Height  Weight  ...  Q-T interval  T interval  P interval  QRS\n",
            "1     54    0     172      95  ...           386         185         102   96\n",
            "8     50    1     167      67  ...           383         156          73   85\n",
            "11    54    1     172      58  ...           382         163          81  -24\n",
            "15    47    0     171      59  ...           347         169          61   77\n",
            "26    31    1     160      54  ...           407         168          83   10\n",
            "..   ...  ...     ...     ...  ...           ...         ...         ...  ...\n",
            "429   11    0     138      29  ...           361         221          80  112\n",
            "431   11    0     140      42  ...           362         228          81  -18\n",
            "442   41    1     154      75  ...           384         132         112   65\n",
            "447   37    0     190      85  ...           361         201          73   86\n",
            "448   36    0     166      68  ...           365         194         116  -85\n",
            "\n",
            "[94 rows x 10 columns]\n"
          ],
          "name": "stdout"
        }
      ]
    },
    {
      "cell_type": "code",
      "metadata": {
        "id": "cUhid2IBQuSx",
        "colab_type": "code",
        "outputId": "7aef1fab-f123-4b6d-f7c5-446cc5cf13f0",
        "colab": {
          "base_uri": "https://localhost:8080/",
          "height": 255
        }
      },
      "source": [
        "import statistics\n",
        "m1=np.mean(data1)\n",
        "m2=data1-m1\n",
        "s1=np.std(data1)\n",
        "s2=m2/s1\n",
        "print(s2)\n",
        "\n"
      ],
      "execution_count": 160,
      "outputs": [
        {
          "output_type": "stream",
          "text": [
            "          Age       Sex    Height  ...  T interval  P interval       QRS\n",
            "1    0.527552 -1.021508  0.782669  ...    0.127355    0.465425  1.173727\n",
            "8    0.295009  0.978945  0.332419  ...   -0.523996   -0.608875  0.974999\n",
            "11   0.527552  0.978945  0.782669  ...   -0.366773   -0.312517 -0.994218\n",
            "15   0.120601 -1.021508  0.692619  ...   -0.232011   -1.053414  0.830469\n",
            "26  -0.809573  0.978945 -0.297931  ...   -0.254471   -0.238427 -0.379967\n",
            "..        ...       ...       ...  ...         ...         ...       ...\n",
            "429 -1.972290 -1.021508 -2.279032  ...    0.935929   -0.349561  1.462786\n",
            "431 -1.972290 -1.021508 -2.098932  ...    1.093151   -0.312517 -0.885821\n",
            "442 -0.228214  0.978945 -0.838231  ...   -1.063045    0.835874  0.613674\n",
            "447 -0.460758 -1.021508  2.403569  ...    0.486721   -0.608875  0.993065\n",
            "448 -0.518893 -1.021508  0.242369  ...    0.329498    0.984053 -2.096257\n",
            "\n",
            "[94 rows x 10 columns]\n"
          ],
          "name": "stdout"
        }
      ]
    },
    {
      "cell_type": "code",
      "metadata": {
        "id": "1fujZ2LgV739",
        "colab_type": "code",
        "colab": {}
      },
      "source": [
        "x=s2\n",
        "y=b\n",
        "from sklearn.model_selection import train_test_split\n",
        "x_train, x_test, y_train, y_test = train_test_split(x, y, test_size=0.3, random_state=0)\n"
      ],
      "execution_count": 0,
      "outputs": []
    },
    {
      "cell_type": "code",
      "metadata": {
        "id": "0S54iFzdXDpw",
        "colab_type": "code",
        "outputId": "84b12a64-b6ba-46a8-a950-a94681ef53be",
        "colab": {
          "base_uri": "https://localhost:8080/",
          "height": 102
        }
      },
      "source": [
        "from sklearn.linear_model import LogisticRegression\n",
        "logisticRegr = LogisticRegression()\n",
        "logisticRegr.fit(x_train, y_train)"
      ],
      "execution_count": 162,
      "outputs": [
        {
          "output_type": "execute_result",
          "data": {
            "text/plain": [
              "LogisticRegression(C=1.0, class_weight=None, dual=False, fit_intercept=True,\n",
              "                   intercept_scaling=1, l1_ratio=None, max_iter=100,\n",
              "                   multi_class='auto', n_jobs=None, penalty='l2',\n",
              "                   random_state=None, solver='lbfgs', tol=0.0001, verbose=0,\n",
              "                   warm_start=False)"
            ]
          },
          "metadata": {
            "tags": []
          },
          "execution_count": 162
        }
      ]
    },
    {
      "cell_type": "code",
      "metadata": {
        "id": "QycWDcHtaLgn",
        "colab_type": "code",
        "colab": {}
      },
      "source": [
        "from sklearn.svm import SVC\n",
        "Cci=[0.0001,0.4,10]\n",
        "gammaci=[0.1,0.4,0.7]\n",
        "degreeci=[1,3,6]"
      ],
      "execution_count": 0,
      "outputs": []
    },
    {
      "cell_type": "code",
      "metadata": {
        "id": "YCtcY1AqgE9F",
        "colab_type": "code",
        "outputId": "9af0b235-58da-45d1-f397-83ac89f56b2c",
        "colab": {
          "base_uri": "https://localhost:8080/",
          "height": 221
        }
      },
      "source": [
        "lineer=[0,1,2]\n",
        "for i in range(3):\n",
        "  lnr=SVC(C=Cci[i],kernel='linear')\n",
        "  lineer[i]=lnr.fit(x_train,y_train)\n",
        "lineer"
      ],
      "execution_count": 164,
      "outputs": [
        {
          "output_type": "execute_result",
          "data": {
            "text/plain": [
              "[SVC(C=0.0001, break_ties=False, cache_size=200, class_weight=None, coef0=0.0,\n",
              "     decision_function_shape='ovr', degree=3, gamma='scale', kernel='linear',\n",
              "     max_iter=-1, probability=False, random_state=None, shrinking=True,\n",
              "     tol=0.001, verbose=False),\n",
              " SVC(C=0.4, break_ties=False, cache_size=200, class_weight=None, coef0=0.0,\n",
              "     decision_function_shape='ovr', degree=3, gamma='scale', kernel='linear',\n",
              "     max_iter=-1, probability=False, random_state=None, shrinking=True,\n",
              "     tol=0.001, verbose=False),\n",
              " SVC(C=10, break_ties=False, cache_size=200, class_weight=None, coef0=0.0,\n",
              "     decision_function_shape='ovr', degree=3, gamma='scale', kernel='linear',\n",
              "     max_iter=-1, probability=False, random_state=None, shrinking=True,\n",
              "     tol=0.001, verbose=False)]"
            ]
          },
          "metadata": {
            "tags": []
          },
          "execution_count": 164
        }
      ]
    },
    {
      "cell_type": "code",
      "metadata": {
        "id": "JdkGhb9Wk1Vd",
        "colab_type": "code",
        "outputId": "a7230bbc-a05b-4840-d74f-714bb49fd548",
        "colab": {
          "base_uri": "https://localhost:8080/",
          "height": 629
        }
      },
      "source": [
        "rbf=[1,2,3,4,5,6,7,8,9]\n",
        "sayar=0\n",
        "for i in range(3):\n",
        "  for j in range(3):\n",
        "    rbfc=SVC(C=Cci[i],kernel='rbf',gamma=gammaci[j])\n",
        "    rbf[sayar]=rbfc.fit(x_train,y_train)\n",
        "    sayar=sayar+1\n",
        "rbf"
      ],
      "execution_count": 165,
      "outputs": [
        {
          "output_type": "execute_result",
          "data": {
            "text/plain": [
              "[SVC(C=0.0001, break_ties=False, cache_size=200, class_weight=None, coef0=0.0,\n",
              "     decision_function_shape='ovr', degree=3, gamma=0.1, kernel='rbf',\n",
              "     max_iter=-1, probability=False, random_state=None, shrinking=True,\n",
              "     tol=0.001, verbose=False),\n",
              " SVC(C=0.0001, break_ties=False, cache_size=200, class_weight=None, coef0=0.0,\n",
              "     decision_function_shape='ovr', degree=3, gamma=0.4, kernel='rbf',\n",
              "     max_iter=-1, probability=False, random_state=None, shrinking=True,\n",
              "     tol=0.001, verbose=False),\n",
              " SVC(C=0.0001, break_ties=False, cache_size=200, class_weight=None, coef0=0.0,\n",
              "     decision_function_shape='ovr', degree=3, gamma=0.7, kernel='rbf',\n",
              "     max_iter=-1, probability=False, random_state=None, shrinking=True,\n",
              "     tol=0.001, verbose=False),\n",
              " SVC(C=0.4, break_ties=False, cache_size=200, class_weight=None, coef0=0.0,\n",
              "     decision_function_shape='ovr', degree=3, gamma=0.1, kernel='rbf',\n",
              "     max_iter=-1, probability=False, random_state=None, shrinking=True,\n",
              "     tol=0.001, verbose=False),\n",
              " SVC(C=0.4, break_ties=False, cache_size=200, class_weight=None, coef0=0.0,\n",
              "     decision_function_shape='ovr', degree=3, gamma=0.4, kernel='rbf',\n",
              "     max_iter=-1, probability=False, random_state=None, shrinking=True,\n",
              "     tol=0.001, verbose=False),\n",
              " SVC(C=0.4, break_ties=False, cache_size=200, class_weight=None, coef0=0.0,\n",
              "     decision_function_shape='ovr', degree=3, gamma=0.7, kernel='rbf',\n",
              "     max_iter=-1, probability=False, random_state=None, shrinking=True,\n",
              "     tol=0.001, verbose=False),\n",
              " SVC(C=10, break_ties=False, cache_size=200, class_weight=None, coef0=0.0,\n",
              "     decision_function_shape='ovr', degree=3, gamma=0.1, kernel='rbf',\n",
              "     max_iter=-1, probability=False, random_state=None, shrinking=True,\n",
              "     tol=0.001, verbose=False),\n",
              " SVC(C=10, break_ties=False, cache_size=200, class_weight=None, coef0=0.0,\n",
              "     decision_function_shape='ovr', degree=3, gamma=0.4, kernel='rbf',\n",
              "     max_iter=-1, probability=False, random_state=None, shrinking=True,\n",
              "     tol=0.001, verbose=False),\n",
              " SVC(C=10, break_ties=False, cache_size=200, class_weight=None, coef0=0.0,\n",
              "     decision_function_shape='ovr', degree=3, gamma=0.7, kernel='rbf',\n",
              "     max_iter=-1, probability=False, random_state=None, shrinking=True,\n",
              "     tol=0.001, verbose=False)]"
            ]
          },
          "metadata": {
            "tags": []
          },
          "execution_count": 165
        }
      ]
    },
    {
      "cell_type": "code",
      "metadata": {
        "id": "62pJIcD_pGwc",
        "colab_type": "code",
        "outputId": "d88e000a-59e9-49d8-d9fb-6e2abd96d5fd",
        "colab": {
          "base_uri": "https://localhost:8080/",
          "height": 629
        }
      },
      "source": [
        "poly=[1,2,3,4,5,6,7,8,9]\n",
        "sayar=0\n",
        "for i in range(3):\n",
        "  for j in range(3):\n",
        "    ply=SVC(C=Cci[i],kernel='poly',degree=degreeci[j])\n",
        "    poly[sayar]=ply.fit(x_train,y_train)\n",
        "    sayar=sayar+1\n",
        "poly"
      ],
      "execution_count": 166,
      "outputs": [
        {
          "output_type": "execute_result",
          "data": {
            "text/plain": [
              "[SVC(C=0.0001, break_ties=False, cache_size=200, class_weight=None, coef0=0.0,\n",
              "     decision_function_shape='ovr', degree=1, gamma='scale', kernel='poly',\n",
              "     max_iter=-1, probability=False, random_state=None, shrinking=True,\n",
              "     tol=0.001, verbose=False),\n",
              " SVC(C=0.0001, break_ties=False, cache_size=200, class_weight=None, coef0=0.0,\n",
              "     decision_function_shape='ovr', degree=3, gamma='scale', kernel='poly',\n",
              "     max_iter=-1, probability=False, random_state=None, shrinking=True,\n",
              "     tol=0.001, verbose=False),\n",
              " SVC(C=0.0001, break_ties=False, cache_size=200, class_weight=None, coef0=0.0,\n",
              "     decision_function_shape='ovr', degree=6, gamma='scale', kernel='poly',\n",
              "     max_iter=-1, probability=False, random_state=None, shrinking=True,\n",
              "     tol=0.001, verbose=False),\n",
              " SVC(C=0.4, break_ties=False, cache_size=200, class_weight=None, coef0=0.0,\n",
              "     decision_function_shape='ovr', degree=1, gamma='scale', kernel='poly',\n",
              "     max_iter=-1, probability=False, random_state=None, shrinking=True,\n",
              "     tol=0.001, verbose=False),\n",
              " SVC(C=0.4, break_ties=False, cache_size=200, class_weight=None, coef0=0.0,\n",
              "     decision_function_shape='ovr', degree=3, gamma='scale', kernel='poly',\n",
              "     max_iter=-1, probability=False, random_state=None, shrinking=True,\n",
              "     tol=0.001, verbose=False),\n",
              " SVC(C=0.4, break_ties=False, cache_size=200, class_weight=None, coef0=0.0,\n",
              "     decision_function_shape='ovr', degree=6, gamma='scale', kernel='poly',\n",
              "     max_iter=-1, probability=False, random_state=None, shrinking=True,\n",
              "     tol=0.001, verbose=False),\n",
              " SVC(C=10, break_ties=False, cache_size=200, class_weight=None, coef0=0.0,\n",
              "     decision_function_shape='ovr', degree=1, gamma='scale', kernel='poly',\n",
              "     max_iter=-1, probability=False, random_state=None, shrinking=True,\n",
              "     tol=0.001, verbose=False),\n",
              " SVC(C=10, break_ties=False, cache_size=200, class_weight=None, coef0=0.0,\n",
              "     decision_function_shape='ovr', degree=3, gamma='scale', kernel='poly',\n",
              "     max_iter=-1, probability=False, random_state=None, shrinking=True,\n",
              "     tol=0.001, verbose=False),\n",
              " SVC(C=10, break_ties=False, cache_size=200, class_weight=None, coef0=0.0,\n",
              "     decision_function_shape='ovr', degree=6, gamma='scale', kernel='poly',\n",
              "     max_iter=-1, probability=False, random_state=None, shrinking=True,\n",
              "     tol=0.001, verbose=False)]"
            ]
          },
          "metadata": {
            "tags": []
          },
          "execution_count": 166
        }
      ]
    },
    {
      "cell_type": "code",
      "metadata": {
        "id": "Ty0sDIRuuQwR",
        "colab_type": "code",
        "outputId": "304a3ab4-d944-4136-ae6b-b0336ab27873",
        "colab": {
          "base_uri": "https://localhost:8080/",
          "height": 34
        }
      },
      "source": [
        "from sklearn.metrics import accuracy_score \n",
        "predictions=logisticRegr.predict(x_test)\n",
        "sreg=round(accuracy_score(y_test,predictions),3)\n",
        "sreg"
      ],
      "execution_count": 167,
      "outputs": [
        {
          "output_type": "execute_result",
          "data": {
            "text/plain": [
              "0.655"
            ]
          },
          "metadata": {
            "tags": []
          },
          "execution_count": 167
        }
      ]
    },
    {
      "cell_type": "code",
      "metadata": {
        "id": "bSo_uIwVyZNS",
        "colab_type": "code",
        "outputId": "84e4b92a-1ecd-44ae-dbe9-640ac72c31e7",
        "colab": {
          "base_uri": "https://localhost:8080/",
          "height": 34
        }
      },
      "source": [
        "slin=[0,1,2]\n",
        "for i in range(3):\n",
        "  predlin=lineer[i].predict(x_test)\n",
        "  slin[i]=round(accuracy_score(y_test,predlin),3)\n",
        "slin"
      ],
      "execution_count": 168,
      "outputs": [
        {
          "output_type": "execute_result",
          "data": {
            "text/plain": [
              "[0.517, 0.69, 0.724]"
            ]
          },
          "metadata": {
            "tags": []
          },
          "execution_count": 168
        }
      ]
    },
    {
      "cell_type": "code",
      "metadata": {
        "id": "OXQOu-Wj0SMI",
        "colab_type": "code",
        "outputId": "d0013e06-7a78-4884-bf04-41b7202f60ba",
        "colab": {
          "base_uri": "https://localhost:8080/",
          "height": 34
        }
      },
      "source": [
        "srbf=[0,1,2,3,4,5,6,7,8]\n",
        "for i in range(9):\n",
        "  predrbf=rbf[i].predict(x_test)\n",
        "  srbf[i]=round(accuracy_score(y_test,predrbf),3)\n",
        "srbf"
      ],
      "execution_count": 169,
      "outputs": [
        {
          "output_type": "execute_result",
          "data": {
            "text/plain": [
              "[0.517, 0.517, 0.517, 0.759, 0.552, 0.517, 0.724, 0.69, 0.69]"
            ]
          },
          "metadata": {
            "tags": []
          },
          "execution_count": 169
        }
      ]
    },
    {
      "cell_type": "code",
      "metadata": {
        "id": "sMWz05kF1jIA",
        "colab_type": "code",
        "outputId": "3236cfdf-740b-42b2-cc17-286521246e18",
        "colab": {
          "base_uri": "https://localhost:8080/",
          "height": 34
        }
      },
      "source": [
        "spoly=[0,1,2,3,4,5,6,7,8]\n",
        "for i in range(9):\n",
        "  predpoly=poly[i].predict(x_test)\n",
        "  spoly[i]=round(accuracy_score(y_test,predpoly),3)\n",
        "spoly"
      ],
      "execution_count": 170,
      "outputs": [
        {
          "output_type": "execute_result",
          "data": {
            "text/plain": [
              "[0.517, 0.517, 0.517, 0.621, 0.621, 0.69, 0.69, 0.69, 0.552]"
            ]
          },
          "metadata": {
            "tags": []
          },
          "execution_count": 170
        }
      ]
    },
    {
      "cell_type": "code",
      "metadata": {
        "id": "Tm_bEansLXSH",
        "colab_type": "code",
        "outputId": "45e9ddbd-27a4-448a-e917-8ef56627ad8c",
        "colab": {
          "base_uri": "https://localhost:8080/",
          "height": 80
        }
      },
      "source": [
        "slin2=('C=%f'%Cci[0]),('C=%f'%Cci[1]),('C=%f'%Cci[2])\n",
        "lineerfull=('Lineer accuracy:'),('Lineer accuracy=%f'%slin[0]),('Lineer accuracy=%f'%slin[1]),('Lineer accuracy=%f'%slin[2])\n",
        "lineerson=pd.DataFrame([lineerfull])\n",
        "lineerson.columns=['',('C=%f'%Cci[0]),('C=%f'%Cci[1]),('C=%f'%Cci[2])]\n",
        "\n",
        "\n",
        "\n",
        "lineerson\n"
      ],
      "execution_count": 171,
      "outputs": [
        {
          "output_type": "execute_result",
          "data": {
            "text/html": [
              "<div>\n",
              "<style scoped>\n",
              "    .dataframe tbody tr th:only-of-type {\n",
              "        vertical-align: middle;\n",
              "    }\n",
              "\n",
              "    .dataframe tbody tr th {\n",
              "        vertical-align: top;\n",
              "    }\n",
              "\n",
              "    .dataframe thead th {\n",
              "        text-align: right;\n",
              "    }\n",
              "</style>\n",
              "<table border=\"1\" class=\"dataframe\">\n",
              "  <thead>\n",
              "    <tr style=\"text-align: right;\">\n",
              "      <th></th>\n",
              "      <th></th>\n",
              "      <th>C=0.000100</th>\n",
              "      <th>C=0.400000</th>\n",
              "      <th>C=10.000000</th>\n",
              "    </tr>\n",
              "  </thead>\n",
              "  <tbody>\n",
              "    <tr>\n",
              "      <th>0</th>\n",
              "      <td>Lineer accuracy:</td>\n",
              "      <td>Lineer accuracy=0.517000</td>\n",
              "      <td>Lineer accuracy=0.690000</td>\n",
              "      <td>Lineer accuracy=0.724000</td>\n",
              "    </tr>\n",
              "  </tbody>\n",
              "</table>\n",
              "</div>"
            ],
            "text/plain": [
              "                     ...               C=10.000000\n",
              "0  Lineer accuracy:  ...  Lineer accuracy=0.724000\n",
              "\n",
              "[1 rows x 4 columns]"
            ]
          },
          "metadata": {
            "tags": []
          },
          "execution_count": 171
        }
      ]
    },
    {
      "cell_type": "code",
      "metadata": {
        "id": "lwyFcTfUbbPq",
        "colab_type": "code",
        "outputId": "70ad2664-a074-477e-8808-4924a3a12380",
        "colab": {
          "base_uri": "https://localhost:8080/",
          "height": 142
        }
      },
      "source": [
        "srbf2=('Gamma=%f'%gammaci[0]),('Gamma=%f'%gammaci[1]),('Gamma=%f'%gammaci[2])\n",
        "rbfsol=('Rbf accuracy=%f'%srbf[0]),('Rbf accuracy=%f'%srbf[1]),('Rbf accuracy=%f'%srbf[2])\n",
        "rbfort=('Rbf accuracy=%f'%srbf[3]),('Rbf accuracy=%f'%srbf[4]),('Rbf accuracy=%f'%srbf[5])\n",
        "rbfsag=('Rbf accuracy=%f'%srbf[6]),('Rbf accuracy=%f'%srbf[7]),('Rbf accuracy=%f'%srbf[8])\n",
        "rbfsol=pd.DataFrame(rbfsol)\n",
        "rbfort=pd.DataFrame(rbfort)\n",
        "rbfsag=pd.DataFrame(rbfsag)\n",
        "rbfveri=pd.DataFrame(srbf2)\n",
        "rbfson=pd.concat((rbfveri,rbfsol,rbfort,rbfsag),axis=1)\n",
        "\n",
        "\n",
        "rbfson"
      ],
      "execution_count": 172,
      "outputs": [
        {
          "output_type": "execute_result",
          "data": {
            "text/html": [
              "<div>\n",
              "<style scoped>\n",
              "    .dataframe tbody tr th:only-of-type {\n",
              "        vertical-align: middle;\n",
              "    }\n",
              "\n",
              "    .dataframe tbody tr th {\n",
              "        vertical-align: top;\n",
              "    }\n",
              "\n",
              "    .dataframe thead th {\n",
              "        text-align: right;\n",
              "    }\n",
              "</style>\n",
              "<table border=\"1\" class=\"dataframe\">\n",
              "  <thead>\n",
              "    <tr style=\"text-align: right;\">\n",
              "      <th></th>\n",
              "      <th>0</th>\n",
              "      <th>0</th>\n",
              "      <th>0</th>\n",
              "      <th>0</th>\n",
              "    </tr>\n",
              "  </thead>\n",
              "  <tbody>\n",
              "    <tr>\n",
              "      <th>0</th>\n",
              "      <td>Gamma=0.100000</td>\n",
              "      <td>Rbf accuracy=0.517000</td>\n",
              "      <td>Rbf accuracy=0.759000</td>\n",
              "      <td>Rbf accuracy=0.724000</td>\n",
              "    </tr>\n",
              "    <tr>\n",
              "      <th>1</th>\n",
              "      <td>Gamma=0.400000</td>\n",
              "      <td>Rbf accuracy=0.517000</td>\n",
              "      <td>Rbf accuracy=0.552000</td>\n",
              "      <td>Rbf accuracy=0.690000</td>\n",
              "    </tr>\n",
              "    <tr>\n",
              "      <th>2</th>\n",
              "      <td>Gamma=0.700000</td>\n",
              "      <td>Rbf accuracy=0.517000</td>\n",
              "      <td>Rbf accuracy=0.517000</td>\n",
              "      <td>Rbf accuracy=0.690000</td>\n",
              "    </tr>\n",
              "  </tbody>\n",
              "</table>\n",
              "</div>"
            ],
            "text/plain": [
              "                0  ...                      0\n",
              "0  Gamma=0.100000  ...  Rbf accuracy=0.724000\n",
              "1  Gamma=0.400000  ...  Rbf accuracy=0.690000\n",
              "2  Gamma=0.700000  ...  Rbf accuracy=0.690000\n",
              "\n",
              "[3 rows x 4 columns]"
            ]
          },
          "metadata": {
            "tags": []
          },
          "execution_count": 172
        }
      ]
    },
    {
      "cell_type": "code",
      "metadata": {
        "id": "BQaIrcdmc3qQ",
        "colab_type": "code",
        "outputId": "7e8f4551-1122-42e5-cfcd-da34ddc941d9",
        "colab": {
          "base_uri": "https://localhost:8080/",
          "height": 142
        }
      },
      "source": [
        "spoly2=('Degree=%f'%degreeci[0]),('Degree=%f'%degreeci[1]),('Degree=%f'%degreeci[2])\n",
        "polysol=('Poly accuracy=%f'%spoly[0]),('Poly accuracy=%f'%spoly[1]),('Poly accuracy=%f'%spoly[2])\n",
        "polyort=('Poly accuracy=%f'%spoly[3]),('Poly accuracy=%f'%spoly[4]),('Poly accuracy=%f'%spoly[5])\n",
        "polysag=('Poly accuracy=%f'%spoly[6]),('Poly accuracy=%f'%spoly[7]),('Poly accuracy=%f'%spoly[8])\n",
        "polysol=pd.DataFrame(polysol)\n",
        "polyort=pd.DataFrame(polyort)\n",
        "polysag=pd.DataFrame(polysag)\n",
        "polyveri=pd.DataFrame(spoly2)\n",
        "polyson=pd.concat((polyveri,polysol,polyort,polysag),axis=1)\n",
        "\n",
        "\n",
        "polyson"
      ],
      "execution_count": 173,
      "outputs": [
        {
          "output_type": "execute_result",
          "data": {
            "text/html": [
              "<div>\n",
              "<style scoped>\n",
              "    .dataframe tbody tr th:only-of-type {\n",
              "        vertical-align: middle;\n",
              "    }\n",
              "\n",
              "    .dataframe tbody tr th {\n",
              "        vertical-align: top;\n",
              "    }\n",
              "\n",
              "    .dataframe thead th {\n",
              "        text-align: right;\n",
              "    }\n",
              "</style>\n",
              "<table border=\"1\" class=\"dataframe\">\n",
              "  <thead>\n",
              "    <tr style=\"text-align: right;\">\n",
              "      <th></th>\n",
              "      <th>0</th>\n",
              "      <th>0</th>\n",
              "      <th>0</th>\n",
              "      <th>0</th>\n",
              "    </tr>\n",
              "  </thead>\n",
              "  <tbody>\n",
              "    <tr>\n",
              "      <th>0</th>\n",
              "      <td>Degree=1.000000</td>\n",
              "      <td>Poly accuracy=0.517000</td>\n",
              "      <td>Poly accuracy=0.621000</td>\n",
              "      <td>Poly accuracy=0.690000</td>\n",
              "    </tr>\n",
              "    <tr>\n",
              "      <th>1</th>\n",
              "      <td>Degree=3.000000</td>\n",
              "      <td>Poly accuracy=0.517000</td>\n",
              "      <td>Poly accuracy=0.621000</td>\n",
              "      <td>Poly accuracy=0.690000</td>\n",
              "    </tr>\n",
              "    <tr>\n",
              "      <th>2</th>\n",
              "      <td>Degree=6.000000</td>\n",
              "      <td>Poly accuracy=0.517000</td>\n",
              "      <td>Poly accuracy=0.690000</td>\n",
              "      <td>Poly accuracy=0.552000</td>\n",
              "    </tr>\n",
              "  </tbody>\n",
              "</table>\n",
              "</div>"
            ],
            "text/plain": [
              "                 0  ...                       0\n",
              "0  Degree=1.000000  ...  Poly accuracy=0.690000\n",
              "1  Degree=3.000000  ...  Poly accuracy=0.690000\n",
              "2  Degree=6.000000  ...  Poly accuracy=0.552000\n",
              "\n",
              "[3 rows x 4 columns]"
            ]
          },
          "metadata": {
            "tags": []
          },
          "execution_count": 173
        }
      ]
    },
    {
      "cell_type": "code",
      "metadata": {
        "id": "R6XmxCNs1-ty",
        "colab_type": "code",
        "outputId": "c57bcefc-c112-4fe5-ad71-5fd7f3605d45",
        "colab": {
          "base_uri": "https://localhost:8080/",
          "height": 49
        }
      },
      "source": [
        "sreg2=('Regression accuracy=%f'%sreg)\n",
        "regson=pd.DataFrame([],columns=[sreg2])\n",
        "regson\n"
      ],
      "execution_count": 174,
      "outputs": [
        {
          "output_type": "execute_result",
          "data": {
            "text/html": [
              "<div>\n",
              "<style scoped>\n",
              "    .dataframe tbody tr th:only-of-type {\n",
              "        vertical-align: middle;\n",
              "    }\n",
              "\n",
              "    .dataframe tbody tr th {\n",
              "        vertical-align: top;\n",
              "    }\n",
              "\n",
              "    .dataframe thead th {\n",
              "        text-align: right;\n",
              "    }\n",
              "</style>\n",
              "<table border=\"1\" class=\"dataframe\">\n",
              "  <thead>\n",
              "    <tr style=\"text-align: right;\">\n",
              "      <th></th>\n",
              "      <th>Regression accuracy=0.655000</th>\n",
              "    </tr>\n",
              "  </thead>\n",
              "  <tbody>\n",
              "  </tbody>\n",
              "</table>\n",
              "</div>"
            ],
            "text/plain": [
              "Empty DataFrame\n",
              "Columns: [Regression accuracy=0.655000]\n",
              "Index: []"
            ]
          },
          "metadata": {
            "tags": []
          },
          "execution_count": 174
        }
      ]
    },
    {
      "cell_type": "code",
      "metadata": {
        "id": "CYHwwzq7kGIm",
        "colab_type": "code",
        "outputId": "9aa9e8de-d4a1-4058-98f0-30c7252b148e",
        "colab": {
          "base_uri": "https://localhost:8080/",
          "height": 266
        }
      },
      "source": [
        "tabloalt=pd.concat((rbfson,polyson),axis=0)\n",
        "tabloalt.columns=['',('C=%f'%Cci[0]),('C=%f'%Cci[1]),('C=%f'%Cci[2])]\n",
        "tabloson=pd.concat((lineerson,tabloalt),axis=0)\n",
        "tabloson=pd.concat((tabloson,regson),axis=1)\n",
        "tabloson"
      ],
      "execution_count": 175,
      "outputs": [
        {
          "output_type": "execute_result",
          "data": {
            "text/html": [
              "<div>\n",
              "<style scoped>\n",
              "    .dataframe tbody tr th:only-of-type {\n",
              "        vertical-align: middle;\n",
              "    }\n",
              "\n",
              "    .dataframe tbody tr th {\n",
              "        vertical-align: top;\n",
              "    }\n",
              "\n",
              "    .dataframe thead th {\n",
              "        text-align: right;\n",
              "    }\n",
              "</style>\n",
              "<table border=\"1\" class=\"dataframe\">\n",
              "  <thead>\n",
              "    <tr style=\"text-align: right;\">\n",
              "      <th></th>\n",
              "      <th></th>\n",
              "      <th>C=0.000100</th>\n",
              "      <th>C=0.400000</th>\n",
              "      <th>C=10.000000</th>\n",
              "      <th>Regression accuracy=0.655000</th>\n",
              "    </tr>\n",
              "  </thead>\n",
              "  <tbody>\n",
              "    <tr>\n",
              "      <th>0</th>\n",
              "      <td>Lineer accuracy:</td>\n",
              "      <td>Lineer accuracy=0.517000</td>\n",
              "      <td>Lineer accuracy=0.690000</td>\n",
              "      <td>Lineer accuracy=0.724000</td>\n",
              "      <td>NaN</td>\n",
              "    </tr>\n",
              "    <tr>\n",
              "      <th>0</th>\n",
              "      <td>Gamma=0.100000</td>\n",
              "      <td>Rbf accuracy=0.517000</td>\n",
              "      <td>Rbf accuracy=0.759000</td>\n",
              "      <td>Rbf accuracy=0.724000</td>\n",
              "      <td>NaN</td>\n",
              "    </tr>\n",
              "    <tr>\n",
              "      <th>1</th>\n",
              "      <td>Gamma=0.400000</td>\n",
              "      <td>Rbf accuracy=0.517000</td>\n",
              "      <td>Rbf accuracy=0.552000</td>\n",
              "      <td>Rbf accuracy=0.690000</td>\n",
              "      <td>NaN</td>\n",
              "    </tr>\n",
              "    <tr>\n",
              "      <th>2</th>\n",
              "      <td>Gamma=0.700000</td>\n",
              "      <td>Rbf accuracy=0.517000</td>\n",
              "      <td>Rbf accuracy=0.517000</td>\n",
              "      <td>Rbf accuracy=0.690000</td>\n",
              "      <td>NaN</td>\n",
              "    </tr>\n",
              "    <tr>\n",
              "      <th>0</th>\n",
              "      <td>Degree=1.000000</td>\n",
              "      <td>Poly accuracy=0.517000</td>\n",
              "      <td>Poly accuracy=0.621000</td>\n",
              "      <td>Poly accuracy=0.690000</td>\n",
              "      <td>NaN</td>\n",
              "    </tr>\n",
              "    <tr>\n",
              "      <th>1</th>\n",
              "      <td>Degree=3.000000</td>\n",
              "      <td>Poly accuracy=0.517000</td>\n",
              "      <td>Poly accuracy=0.621000</td>\n",
              "      <td>Poly accuracy=0.690000</td>\n",
              "      <td>NaN</td>\n",
              "    </tr>\n",
              "    <tr>\n",
              "      <th>2</th>\n",
              "      <td>Degree=6.000000</td>\n",
              "      <td>Poly accuracy=0.517000</td>\n",
              "      <td>Poly accuracy=0.690000</td>\n",
              "      <td>Poly accuracy=0.552000</td>\n",
              "      <td>NaN</td>\n",
              "    </tr>\n",
              "  </tbody>\n",
              "</table>\n",
              "</div>"
            ],
            "text/plain": [
              "                     ... Regression accuracy=0.655000\n",
              "0  Lineer accuracy:  ...                          NaN\n",
              "0    Gamma=0.100000  ...                          NaN\n",
              "1    Gamma=0.400000  ...                          NaN\n",
              "2    Gamma=0.700000  ...                          NaN\n",
              "0   Degree=1.000000  ...                          NaN\n",
              "1   Degree=3.000000  ...                          NaN\n",
              "2   Degree=6.000000  ...                          NaN\n",
              "\n",
              "[7 rows x 5 columns]"
            ]
          },
          "metadata": {
            "tags": []
          },
          "execution_count": 175
        }
      ]
    },
    {
      "cell_type": "code",
      "metadata": {
        "id": "aAAOLKfn2gN_",
        "colab_type": "code",
        "colab": {
          "base_uri": "https://localhost:8080/",
          "height": 221
        },
        "outputId": "567e0b41-74f8-4051-f9b9-56d8c6cdfe1c"
      },
      "source": [
        "\n",
        "lineerdeger=pd.DataFrame([[(slin[0]),(slin[1]),(slin[2])]])\n",
        "\n",
        "\n",
        "\n",
        "\n",
        "rbfsol1=(srbf[0]),(srbf[1]),(srbf[2])\n",
        "rbfort1=(srbf[3]),(srbf[4]),(srbf[5])\n",
        "rbfsag1=(srbf[6]),(srbf[7]),(srbf[8])\n",
        "rbfsol1=pd.DataFrame(rbfsol1)\n",
        "rbfort1=pd.DataFrame(rbfort1)\n",
        "rbfsag1=pd.DataFrame(rbfsag1)\n",
        "rbfdeger=pd.concat((rbfsol1,rbfort1,rbfsag1),axis=1)\n",
        "rbfdeger.columns=[0,1,2]\n",
        "\n",
        "\n",
        "polysol1=(spoly[0]),(spoly[1]),(spoly[2])\n",
        "polyort1=(spoly[3]),(spoly[4]),(spoly[5])\n",
        "polysag1=(spoly[6]),(spoly[7]),(spoly[8])\n",
        "polysol1=pd.DataFrame(polysol1)\n",
        "polyort1=pd.DataFrame(polyort1)\n",
        "polysag1=pd.DataFrame(polysag1)\n",
        "\n",
        "polydeger=pd.concat((polysol1,polyort1,polysag1),axis=1)\n",
        "polydeger.columns=[0,1,2]\n",
        "\n",
        "regdeger=pd.DataFrame([sreg])\n",
        "\n",
        "print(lineerdeger)\n",
        "print(rbfdeger)\n",
        "print(polydeger)\n",
        "print(regdeger)\n",
        "\n"
      ],
      "execution_count": 176,
      "outputs": [
        {
          "output_type": "stream",
          "text": [
            "       0     1      2\n",
            "0  0.517  0.69  0.724\n",
            "       0      1      2\n",
            "0  0.517  0.759  0.724\n",
            "1  0.517  0.552  0.690\n",
            "2  0.517  0.517  0.690\n",
            "       0      1      2\n",
            "0  0.517  0.621  0.690\n",
            "1  0.517  0.621  0.690\n",
            "2  0.517  0.690  0.552\n",
            "       0\n",
            "0  0.655\n"
          ],
          "name": "stdout"
        }
      ]
    },
    {
      "cell_type": "code",
      "metadata": {
        "id": "uC2As19i6bwt",
        "colab_type": "code",
        "colab": {
          "base_uri": "https://localhost:8080/",
          "height": 102
        },
        "outputId": "b5aa7eda-71be-4689-c011-d196d18b35b5"
      },
      "source": [
        "rbfcol=np.argmax(np.max(rbfdeger, axis=1))\n",
        "rbfrow=np.argmax(np.max(rbfdeger, axis=0))\n",
        "rbfmax1=[rbfcol,rbfrow]\n",
        "\n",
        "lineercol=np.argmax(np.max(lineerdeger, axis=1))\n",
        "lineerrow=np.argmax(np.max(lineerdeger, axis=0))\n",
        "lineermax1=[lineercol,lineerrow]\n",
        "\n",
        "polycol=np.argmax(np.max(polydeger, axis=1))\n",
        "polyrow=np.argmax(np.max(polydeger, axis=0))\n",
        "polymax1=[polycol,polyrow]\n",
        "\n",
        "\n",
        "lineermax=np.where(lineerdeger == np.nanmax(lineerdeger))\n",
        "lnrmax=np.transpose(lineermax)\n",
        "for i in range(len(lnrmax)):\n",
        "  lnrmax1=lnrmax[i]\n",
        "  print('C=%f değerinde lineer SVM accuracy maxdır.'%(Cci[lnrmax1[1]]))\n",
        "\n",
        "\n",
        "\n",
        "rbfmax=np.where(rbfdeger == np.nanmax(rbfdeger))\n",
        "rbmax=np.transpose(rbfmax)\n",
        "for i in range(len(rbmax)):\n",
        "  rbmax1=rbmax[i]\n",
        "  print('C=%f ve gamma=%f değerlerinde rbf SVM accuracy maxdır.'%(Cci[rbmax1[1]],gammaci[rbmax1[0]]))\n",
        "\n",
        "\n",
        "\n",
        "\n",
        "polymax=np.where(polydeger == np.nanmax(polydeger))\n",
        "plymax=np.transpose(polymax)\n",
        "for i in range(len(plymax)):\n",
        "  plymax1=plymax[i]\n",
        "  print('C=%f ve degree=%f değerlerinde poly SVM accuracy maxdır.'%(Cci[plymax1[1]],degreeci[plymax1[0]]))\n",
        "\n",
        "\n"
      ],
      "execution_count": 177,
      "outputs": [
        {
          "output_type": "stream",
          "text": [
            "C=10.000000 değerinde lineer SVM accuracy maxdır.\n",
            "C=0.400000 ve gamma=0.100000 değerlerinde rbf SVM accuracy maxdır.\n",
            "C=10.000000 ve degree=1.000000 değerlerinde poly SVM accuracy maxdır.\n",
            "C=10.000000 ve degree=3.000000 değerlerinde poly SVM accuracy maxdır.\n",
            "C=0.400000 ve degree=6.000000 değerlerinde poly SVM accuracy maxdır.\n"
          ],
          "name": "stdout"
        }
      ]
    }
  ]
}